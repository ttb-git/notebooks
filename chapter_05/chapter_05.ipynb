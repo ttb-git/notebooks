{
  "cells": [
    {
      "cell_type": "code",
      "execution_count": null,
      "metadata": {
        "id": "sZtrU6-vxsgG"
      },
      "outputs": [],
      "source": [
        "# Listing 5.1 Reprising Airbnb NYC dataset\n",
        "\n",
        "import numpy as np\n",
        "import pandas as pd\n",
        "from sklearn.preprocessing import OneHotEncoder, OrdinalEncoder\n",
        "from sklearn.compose import ColumnTransformer\n",
        "from sklearn.impute import SimpleImputer\n",
        "\n",
        "data = pd.read_csv(\"https://raw.githubusercontent.com/lmassaron/tabular_datasets/master/AB_NYC_2019.csv\")\n",
        "excluding_list = ['price', 'id', 'latitude', 'longitude', 'host_id',\n",
        "                  'last_review', 'name', 'host_name'] #A\n",
        "low_card_categorical = ['neighbourhood_group', 'room_type'] #B\n",
        "high_card_categorical = ['neighbourhood'] #C\n",
        "continuous = ['minimum_nights', 'number_of_reviews', 'reviews_per_month',\n",
        "              'calculated_host_listings_count', 'availability_365']\n",
        "target_mean = (data[\"price\"] > data[\"price\"].mean()).astype(int) #D\n",
        "target_median = (data[\"price\"] > data[\"price\"].median()).astype(int) #E\n",
        "target_multiclass = pd.qcut(data[\"price\"], q=5, labels=False) #F\n",
        "target_regression = data[\"price\"] #G\n",
        "categorical_onehot_encoding = OneHotEncoder(handle_unknown='ignore')\n",
        "categorical_ord_encoding = OrdinalEncoder(handle_unknown=\"use_encoded_value\", unknown_value=np.nan)\n",
        "numeric_passthrough = SimpleImputer(strategy=\"constant\", fill_value=0)\n",
        "\n",
        "column_transform = ColumnTransformer(\n",
        "    [('low_card_categories', categorical_onehot_encoding, low_card_categorical),\n",
        "     ('high_card_categories', categorical_ord_encoding, high_card_categorical),\n",
        "     ('numeric', numeric_passthrough, continuous),\n",
        "    ],\n",
        "    remainder='drop',\n",
        "    verbose_feature_names_out=False,\n",
        "    sparse_threshold=0.0) #H\n",
        "\n",
        "#A list of features to be excluded from data processing\n",
        "#B list of low-cardinality categorical features to be one-hot encoded\n",
        "#C list of high-cardinality categorical features to be ordinally encoded\n",
        "#D creating a binary target indicating whether the price is above the mean (unbalanced binary target)\n",
        "#E creating a binary target indicating whether the price is above the median (balanced binary target)\n",
        "#F creating a multiclass target by quantile binning the price into 5 classes\n",
        "#G setting the target for regression as the price column\n",
        "#H creating a column transformer that applies different transformations to different groups of features"
      ]
    },
    {
      "cell_type": "code",
      "execution_count": null,
      "metadata": {
        "colab": {
          "base_uri": "https://localhost:8080/"
        },
        "id": "g76Z_NecyLsZ",
        "outputId": "2b8ec527-8d2c-4008-d9e8-7fec370dfb45"
      },
      "outputs": [
        {
          "output_type": "stream",
          "name": "stdout",
          "text": [
            "0.761 (0.005) fit: 0.22 secs pred: 0.01 secs\n"
          ]
        }
      ],
      "source": [
        "#Listing 5.2 A decision tree classifier\n",
        "\n",
        "from sklearn.tree import DecisionTreeClassifier\n",
        "from sklearn.pipeline import Pipeline\n",
        "from sklearn.metrics import make_scorer, accuracy_score\n",
        "from sklearn.model_selection import KFold, cross_validate\n",
        "\n",
        "accuracy = make_scorer(accuracy_score)\n",
        "cv = KFold(5, shuffle=True, random_state=0)\n",
        "\n",
        "column_transform = ColumnTransformer(\n",
        "    [('categories', categorical_onehot_encoding, low_card_categorical),\n",
        "     ('numeric', numeric_passthrough, continuous)], #A\n",
        "    remainder='drop',\n",
        "    verbose_feature_names_out=False,\n",
        "    sparse_threshold=0.0)\n",
        "\n",
        "model = DecisionTreeClassifier(random_state=0) #B\n",
        "\n",
        "model_pipeline = Pipeline(\n",
        "    [('processing', column_transform),\n",
        "     ('modeling', model)]) #C\n",
        "\n",
        "cv_scores = cross_validate(estimator=model_pipeline,\n",
        "                           X=data,\n",
        "                           y=target_median,\n",
        "                           scoring=accuracy,\n",
        "                           cv=cv,\n",
        "                           return_train_score=True,\n",
        "                           return_estimator=True) #D\n",
        "\n",
        "mean_cv = np.mean(cv_scores['test_score'])\n",
        "std_cv = np.std(cv_scores['test_score'])\n",
        "fit_time = np.mean(cv_scores['fit_time'])\n",
        "score_time = np.mean(cv_scores['score_time'])\n",
        "print(f\"{mean_cv:0.3f} ({std_cv:0.3f})\",\n",
        "      f\"fit: {fit_time:0.2f} secs pred: {score_time:0.2f} secs\") #E\n",
        "\n",
        "#A creating a column transformer that applies different transformations to categorical and numeric features\n",
        "#B an instance of a decision tree classifier\n",
        "#C a pipeline that sequentially applies column transformation and the decision tree model\n",
        "#D a five-fold cross-validation using the defined pipeline, calculating accuracy scores, and returning additional information\n",
        "#E printing the mean and standard deviation of the accuracy scores from cross-validation"
      ]
    },
    {
      "cell_type": "code",
      "execution_count": null,
      "metadata": {
        "colab": {
          "base_uri": "https://localhost:8080/"
        },
        "id": "cOuvQoF6zVpO",
        "outputId": "81ad42ad-386e-4416-8b14-887062157b5c"
      },
      "outputs": [
        {
          "output_type": "stream",
          "name": "stdout",
          "text": [
            "0.809 (0.004) fit: 37.93 secs pred: 0.83 secs\n"
          ]
        }
      ],
      "source": [
        "# Listing 5.3 Bagged tree-based classifier\n",
        "\n",
        "from sklearn.ensemble import BaggingClassifier\n",
        "from sklearn.tree import DecisionTreeClassifier\n",
        "from sklearn.metrics import accuracy_score\n",
        "\n",
        "accuracy = make_scorer(accuracy_score)\n",
        "cv = KFold(5, shuffle=True, random_state=0)\n",
        "model = BaggingClassifier(estimator=DecisionTreeClassifier(), #A\n",
        "                          n_estimators=300,\n",
        "                          bootstrap=True, #B\n",
        "                          max_samples=1.0, #C\n",
        "                          max_features=1.0, #D\n",
        "                          random_state=0)\n",
        "\n",
        "column_transform = ColumnTransformer(\n",
        "    [('categories', categorical_onehot_encoding, low_card_categorical),\n",
        "     ('numeric', numeric_passthrough, continuous)],\n",
        "    remainder='drop',\n",
        "    verbose_feature_names_out=False,\n",
        "    sparse_threshold=0.0) #E\n",
        "\n",
        "model_pipeline = Pipeline(\n",
        "    [('processing', column_transform),\n",
        "     ('modeling', model)]) #F\n",
        "\n",
        "cv_scores = cross_validate(estimator=model_pipeline,\n",
        "                           X=data,\n",
        "                           y=target_median,\n",
        "                           scoring=accuracy,\n",
        "                           cv=cv,\n",
        "                           return_train_score=True,\n",
        "                           return_estimator=True)\n",
        "\n",
        "mean_cv = np.mean(cv_scores['test_score'])\n",
        "std_cv = np.std(cv_scores['test_score'])\n",
        "fit_time = np.mean(cv_scores['fit_time'])\n",
        "score_time = np.mean(cv_scores['score_time'])\n",
        "print(f\"{mean_cv:0.3f} ({std_cv:0.3f})\",\n",
        "      f\"fit: {fit_time:0.2f} secs pred: {score_time:0.2f} secs\") #G\n",
        "\n",
        "#A creating a BaggingClassifier ensemble model based on decision trees\n",
        "#B setting bootstrap sampling for the BaggingClassifier\n",
        "#C setting no sampling of features for the BaggingClassifier\n",
        "#D setting no sampling of data for the BaggingClassifier\n",
        "#E a column transformer that applies different transformations to categorical and numeric features\n",
        "#F a pipeline that sequentially applies column transformation and the bagging classifier model\n",
        "#G a five-fold cross-validation using the defined pipeline and calculating accuracy scores\n",
        "#H printing the mean and standard deviation of the accuracy scores from cross-validation"
      ]
    },
    {
      "cell_type": "code",
      "execution_count": null,
      "metadata": {
        "colab": {
          "base_uri": "https://localhost:8080/"
        },
        "id": "cuYbm0yF0Ia3",
        "outputId": "02612a14-5093-4e51-9c89-53f39cd9fa1a"
      },
      "outputs": [
        {
          "output_type": "stream",
          "name": "stdout",
          "text": [
            "0.826 (0.004) fit: 12.29 secs pred: 0.68 secs\n"
          ]
        }
      ],
      "source": [
        "# Listing 5.4 Random Forests classifier\n",
        "\n",
        "from sklearn.ensemble import RandomForestClassifier\n",
        "from sklearn.metrics import accuracy_score\n",
        "\n",
        "accuracy = make_scorer(accuracy_score)\n",
        "cv = KFold(5, shuffle=True, random_state=0)\n",
        "model = RandomForestClassifier(n_estimators=300,\n",
        "                               min_samples_leaf=3,\n",
        "                               random_state=0) #A\n",
        "\n",
        "column_transform = ColumnTransformer(\n",
        "    [('categories', categorical_onehot_encoding, low_card_categorical),\n",
        "     ('numeric', numeric_passthrough, continuous)],\n",
        "    remainder='drop',\n",
        "    verbose_feature_names_out=False,\n",
        "    sparse_threshold=0.0) #B\n",
        "\n",
        "model_pipeline = Pipeline(\n",
        "    [('processing', column_transform),\n",
        "     ('modeling', model)]) #C\n",
        "\n",
        "cv_scores = cross_validate(estimator=model_pipeline,\n",
        "                           X=data,\n",
        "                           y=target_median,\n",
        "                           scoring=accuracy,\n",
        "                           cv=cv,\n",
        "                           return_train_score=True,\n",
        "                           return_estimator=True) #D\n",
        "\n",
        "mean_cv = np.mean(cv_scores['test_score'])\n",
        "std_cv = np.std(cv_scores['test_score'])\n",
        "fit_time = np.mean(cv_scores['fit_time'])\n",
        "score_time = np.mean(cv_scores['score_time'])\n",
        "print(f\"{mean_cv:0.3f} ({std_cv:0.3f})\",\n",
        "      f\"fit: {fit_time:0.2f} secs pred: {score_time:0.2f} secs\") #E\n",
        "\n",
        "#A a RandomForestClassifier with 300 estimators and a minimum number of samples at a leaf node set to 3\n",
        "#B a column transformer that applies different transformations to categorical and numeric features\n",
        "#C a pipeline that sequentially applies column transformation and the random forest classifier model\n",
        "#D a five-fold cross-validation using the defined pipeline and calculating accuracy scores\n",
        "#E printing the mean and standard deviation of the accuracy scores from cross-validation"
      ]
    },
    {
      "cell_type": "code",
      "execution_count": null,
      "metadata": {
        "colab": {
          "base_uri": "https://localhost:8080/"
        },
        "id": "Q1nicH3E01Z6",
        "outputId": "659a8e47-2126-4fe4-90af-090c82a59799"
      },
      "outputs": [
        {
          "output_type": "stream",
          "name": "stdout",
          "text": [
            "0.823 (0.004) fit: 4.99 secs pred: 0.42 secs\n"
          ]
        }
      ],
      "source": [
        "# Listing 5.5 Extremely randomized trees classifier\n",
        "\n",
        "from sklearn.ensemble import ExtraTreesClassifier\n",
        "\n",
        "accuracy = make_scorer(accuracy_score)\n",
        "cv = KFold(5, shuffle=True, random_state=0)\n",
        "model = ExtraTreesClassifier(n_estimators=300,\n",
        "                             min_samples_leaf=3,\n",
        "                             random_state=0) #A\n",
        "\n",
        "column_transform = ColumnTransformer(\n",
        "    [('categories', categorical_onehot_encoding, low_card_categorical),\n",
        "     ('numeric', numeric_passthrough, continuous)],\n",
        "    remainder='drop',\n",
        "    verbose_feature_names_out=False,\n",
        "    sparse_threshold=0.0) #B\n",
        "\n",
        "model_pipeline = Pipeline(\n",
        "    [('processing', column_transform),\n",
        "     ('modeling', model)]) #C\n",
        "\n",
        "cv_scores = cross_validate(estimator=model_pipeline,\n",
        "                           X=data,\n",
        "                           y=target_median,\n",
        "                           scoring=accuracy,\n",
        "                           cv=cv,\n",
        "                           return_train_score=True,\n",
        "                           return_estimator=True) #D\n",
        "\n",
        "mean_cv = np.mean(cv_scores['test_score'])\n",
        "std_cv = np.std(cv_scores['test_score'])\n",
        "fit_time = np.mean(cv_scores['fit_time'])\n",
        "score_time = np.mean(cv_scores['score_time'])\n",
        "print(f\"{mean_cv:0.3f} ({std_cv:0.3f})\",\n",
        "      f\"fit: {fit_time:0.2f} secs pred: {score_time:0.2f} secs\") #E\n",
        "\n",
        "#A an ExtraTreesClassifier with 300 estimators and a minimum number of samples at a leaf node set to 3\n",
        "#B a column transformer that applies different transformations to categorical and numeric features\n",
        "#C a pipeline that sequentially applies column transformation and the random forest classifier model\n",
        "#D a five-fold cross-validation using the defined pipeline and calculating accuracy scores\n",
        "#E printing the mean and standard deviation of the accuracy scores from cross-validation"
      ]
    },
    {
      "cell_type": "code",
      "execution_count": null,
      "metadata": {
        "id": "nGko8p-S01WX"
      },
      "outputs": [],
      "source": [
        "# Listing 5.6 Building a gradient boosting classifier\n",
        "\n",
        "from sklearn.tree import DecisionTreeRegressor\n",
        "import numpy as np\n",
        "\n",
        "class GradientBoosting():\n",
        "    def __init__(self, learning_rate=0.1, n_estimators=10, **params):\n",
        "        self.learning_rate = learning_rate\n",
        "        self.n_estimators = n_estimators\n",
        "        self.params = params\n",
        "        self.trees = list()\n",
        "\n",
        "    def sigmoid(self, x):\n",
        "        x = np.clip(x, -100, 100)\n",
        "        return 1 / (1 + np.exp(-x)) #A\n",
        "\n",
        "    def logit(self, x, eps=1e-6):\n",
        "        xp = np.clip(x, eps, 1-eps)\n",
        "        return np.log(xp / (1 - xp)) #B\n",
        "\n",
        "    def gradient(self, y_true, y_pred):\n",
        "        gradient =  y_pred - y_true #C\n",
        "        return gradient\n",
        "\n",
        "    def fit(self, X, y):\n",
        "        self.init = self.logit(np.mean(y)) #D\n",
        "        y_pred = self.init * np.ones((X.shape[0],))\n",
        "        for k in range(self.n_estimators):\n",
        "            gradient = self.gradient(self.logit(y), y_pred)\n",
        "            tree = DecisionTreeRegressor(**self.params)\n",
        "            tree.fit(X, -gradient) #E\n",
        "            self.trees.append(tree)\n",
        "            y_pred += self.learning_rate * tree.predict(X) #F\n",
        "\n",
        "    def predict_proba(self, X):\n",
        "        y_pred = self.init * np.ones((X.shape[0],))\n",
        "        for tree in self.trees:\n",
        "            y_pred += self.learning_rate * tree.predict(X) #G\n",
        "        return self.sigmoid(y_pred)\n",
        "\n",
        "    def predict(self, X, threshold=0.5):\n",
        "        proba = self.predict_proba(X)\n",
        "        return np.where(proba >= threshold, 1, 0)\n",
        "\n",
        "#A sigmoid function implementation used for probability transformation that converts logits back into probabilities\n",
        "#B logit function implementation used to transform probabilities into logits\n",
        "#C calculating the gradient of the loss function (negative log likelihood) with respect to the predictions\n",
        "#D initializing the model with the logit-transformed mean of the target values\n",
        "#E fitting a decision tree regressor to the negative gradient of the log-odds transformed target\n",
        "#F updating the predicted values using the output of the fitted tree,  with a learning rate factor\n",
        "#G predicting back requires cumulating predictions from all the trees"
      ]
    },
    {
      "cell_type": "code",
      "execution_count": null,
      "metadata": {
        "colab": {
          "base_uri": "https://localhost:8080/"
        },
        "id": "J1bOt46I01S7",
        "outputId": "6f7afdae-f302-4ef4-b21c-9be2cc147b53"
      },
      "outputs": [
        {
          "output_type": "stream",
          "name": "stdout",
          "text": [
            "Accuracy: 0.82503\n"
          ]
        }
      ],
      "source": [
        "# Listing 5.7 Testing our gradient boosting class\n",
        "\n",
        "from sklearn.model_selection import train_test_split\n",
        "\n",
        "train, test = train_test_split(range(len(data)), test_size=0.2, random_state=0) #A\n",
        "\n",
        "cls = GradientBoosting(n_estimators=300,\n",
        "                       learning_rate=0.1,\n",
        "                       max_depth=4,\n",
        "                       min_samples_leaf=3,\n",
        "                       random_state=0) #B\n",
        "\n",
        "X = column_transform.fit_transform(data.iloc[train]) #C\n",
        "y = target_median[train] #D\n",
        "\n",
        "cls.fit(X, y)\n",
        "\n",
        "Xt = column_transform.transform(data.iloc[test]) #E\n",
        "yt = target_median[test] #F\n",
        "\n",
        "preds = cls.predict(Xt)\n",
        "score = accuracy_score(y_true=yt, y_pred=preds) #G\n",
        "print(f\"Accuracy: {score:0.5f}\") #H\n",
        "\n",
        "#A splitting the dataset indices into training and test sets using a fixed random seed\n",
        "#B initializing a GradientBoosting model with specified hyperparameters\n",
        "#C applying the column transformations to the training data\n",
        "#D extracting the target values corresponding to the training data\n",
        "#E applying the same column transformations to the test data\n",
        "#F extracting the target values corresponding to the test data\n",
        "#G calculating the accuracy score by comparing the predicted labels with the actual test labels\n",
        "#H printing the calculated accuracy score"
      ]
    },
    {
      "cell_type": "code",
      "execution_count": null,
      "metadata": {
        "colab": {
          "base_uri": "https://localhost:8080/",
          "height": 564
        },
        "id": "udYORD5Q01Pm",
        "outputId": "8dbf0ade-bf51-4f1c-fc42-be82b9002dd1"
      },
      "outputs": [
        {
          "output_type": "display_data",
          "data": {
            "text/plain": [
              "<Figure size 800x600 with 1 Axes>"
            ],
            "image/png": "[encoded data removed]"
          },
          "metadata": {}
        }
      ],
      "source": [
        "# Listing 5.8 Plotting gradient boosting predicted probabilities\n",
        "\n",
        "import matplotlib.pyplot as plt\n",
        "\n",
        "proba = cls.predict_proba(Xt) #A\n",
        "plt.figure(figsize=(8, 6))\n",
        "plt.hist(proba, bins=30, density=True, color='blue', alpha=0.7) #B\n",
        "plt.xlabel('Predicted Probabilities')\n",
        "plt.ylabel('Density')\n",
        "plt.title('Histogram of Predicted Probabilities')\n",
        "plt.grid(True)\n",
        "plt.show()\n",
        "\n",
        "#A generating predicted probabilities for the test data using the trained model\n",
        "#B creating a histogram of the predicted probabilities with specified bins and normalized density"
      ]
    },
    {
      "cell_type": "code",
      "execution_count": null,
      "metadata": {
        "colab": {
          "base_uri": "https://localhost:8080/",
          "height": 564
        },
        "id": "UnCPN3Qw01MI",
        "outputId": "c7a0c22f-158a-4e08-9867-2d5c680f8f90"
      },
      "outputs": [
        {
          "output_type": "display_data",
          "data": {
            "text/plain": [
              "<Figure size 800x600 with 1 Axes>"
            ],
            "image/png": "[encoded data removed]"
          },
          "metadata": {}
        }
      ],
      "source": [
        "# Listing 5.9 Testing a gradient boosting regression class\n",
        "\n",
        "class GradientBoostingRegression(GradientBoosting):\n",
        "\n",
        "    def fit(self, X, y):\n",
        "        self.init = np.mean(y) #A\n",
        "        y_pred = self.init * np.ones((X.shape[0],))\n",
        "\n",
        "        for k in range(self.n_estimators):\n",
        "            gradient = self.gradient(y, y_pred)\n",
        "            tree = DecisionTreeRegressor(**self.params)\n",
        "            tree.fit(X, -gradient) #B\n",
        "            self.trees.append(tree)\n",
        "            y_pred += self.learning_rate * tree.predict(X) #C\n",
        "\n",
        "    def predict(self, X):\n",
        "        y_pred = self.init * np.ones((X.shape[0],))\n",
        "        for tree in self.trees:\n",
        "            y_pred += self.learning_rate * tree.predict(X) #D\n",
        "        return y_pred\n",
        "\n",
        "reg = GradientBoostingRegression(n_estimators=300,\n",
        "                                 learning_rate=0.1,\n",
        "                                 max_depth=4,\n",
        "                                 min_samples_leaf=3,\n",
        "                                 random_state=0)\n",
        "\n",
        "reg.fit(X, y)\n",
        "\n",
        "proba = reg.predict(Xt)\n",
        "plt.figure(figsize=(8, 6))\n",
        "plt.hist(proba, bins=10, density=True, color='blue', alpha=0.7) #E\n",
        "plt.xlabel('Predicted Probabilities')\n",
        "plt.ylabel('Density')\n",
        "plt.title('Histogram of Predicted Probabilities')\n",
        "plt.grid(True)\n",
        "plt.show()\n",
        "\n",
        "#A initializing predictions with mean of y\n",
        "#B fitting the tree to the negative gradient\n",
        "#C updating predictions with tree's predictions scaled by learning rate\n",
        "#D predicting back requires cumulating predictions from all the trees\n",
        "#E plotting a histogram of regression predicted probabilities"
      ]
    },
    {
      "cell_type": "code",
      "execution_count": null,
      "metadata": {
        "colab": {
          "base_uri": "https://localhost:8080/"
        },
        "id": "Uc0D51cG008v",
        "outputId": "75fa0d1d-5766-4b8a-da67-a4a695bd60f1"
      },
      "outputs": [
        {
          "output_type": "stream",
          "name": "stdout",
          "text": [
            "0.826 (0.004) fit: 16.48 secs pred: 0.07 secs\n"
          ]
        }
      ],
      "source": [
        "# Listing 5.10 Scikit-learn gradient boosting classifier\n",
        "\n",
        "from sklearn.ensemble import GradientBoostingClassifier\n",
        "from sklearn.metrics import accuracy_score\n",
        "accuracy = make_scorer(accuracy_score)\n",
        "cv = KFold(5, shuffle=True, random_state=0)\n",
        "model = GradientBoostingClassifier(n_estimators=300,\n",
        "                                   learning_rate=0.1,\n",
        "                                   max_depth=4,\n",
        "                                   min_samples_leaf=3,\n",
        "                                   random_state=0) #A\n",
        "\n",
        "model_pipeline = Pipeline(\n",
        "    [('processing', column_transform),\n",
        "     ('modeling', model)]) #B\n",
        "\n",
        "cv_scores = cross_validate(estimator=model_pipeline,\n",
        "                           X=data,\n",
        "                           y=target_median,\n",
        "                           scoring=accuracy,\n",
        "                           cv=cv,\n",
        "                           return_train_score=True,\n",
        "                           return_estimator=True) #C\n",
        "\n",
        "mean_cv = np.mean(cv_scores['test_score'])\n",
        "std_cv = np.std(cv_scores['test_score'])\n",
        "fit_time = np.mean(cv_scores['fit_time'])\n",
        "score_time = np.mean(cv_scores['score_time'])\n",
        "print(f\"{mean_cv:0.3f} ({std_cv:0.3f})\",\n",
        "      f\"fit: {fit_time:0.2f} secs pred: {score_time:0.2f} secs\") #D\n",
        "\n",
        "#A a GradientBoostingClassifier model with specified hyperparameters\n",
        "#B a pipeline that first applies data processing with column_transform and then fits the model\n",
        "#C a five-fold cross-validation using the defined pipeline, calculating accuracy scores, and returning additional information\n",
        "#D printing the mean and standard deviation of the accuracy scores from cross-validation"
      ]
    },
    {
      "cell_type": "code",
      "execution_count": null,
      "metadata": {
        "colab": {
          "base_uri": "https://localhost:8080/"
        },
        "id": "FIjNyyNs1gZI",
        "outputId": "b4cfe10b-1b89-4019-c381-ebdda3caea5a"
      },
      "outputs": [
        {
          "output_type": "stream",
          "name": "stdout",
          "text": [
            "0.826 (0.005) fit: 6.24 secs pred: 0.04 secs\n",
            "[145, 109, 115, 163, 159]\n"
          ]
        }
      ],
      "source": [
        "# Listing 5.11 Applying early stopping with GradientBoostingClassifier\n",
        "\n",
        "model = GradientBoostingClassifier(n_estimators=1000, #A\n",
        "                                   learning_rate=0.1,\n",
        "                                   validation_fraction=0.2, #B\n",
        "                                   n_iter_no_change=10, #C\n",
        "                                   max_depth=4,\n",
        "                                   min_samples_leaf=3,\n",
        "                                   random_state=0)\n",
        "\n",
        "model_pipeline = Pipeline(\n",
        "    [('processing', column_transform),\n",
        "     ('modeling', model)])\n",
        "\n",
        "cv_scores = cross_validate(estimator=model_pipeline,\n",
        "                           X=data,\n",
        "                           y=target_median,\n",
        "                           scoring=accuracy,\n",
        "                           cv=cv,\n",
        "                           return_train_score=True,\n",
        "                           return_estimator=True)\n",
        "\n",
        "mean_cv = np.mean(cv_scores['test_score'])\n",
        "std_cv = np.std(cv_scores['test_score'])\n",
        "fit_time = np.mean(cv_scores['fit_time'])\n",
        "score_time = np.mean(cv_scores['score_time'])\n",
        "print(f\"{mean_cv:0.3f} ({std_cv:0.3f})\",\n",
        "      f\"fit: {fit_time:0.2f} secs pred: {score_time:0.2f} secs\")\n",
        "iters = [cv_scores[\"estimator\"][i].named_steps[\"modeling\"].n_estimators_\n",
        "         for i in range(5)]  #D\n",
        "print(iters) #E\n",
        "\n",
        "#A a GradientBoostingClassifier model whose iterations are raised to 1000 from the previous 300\n",
        "#B as a validation fraction, the GradientBoostingClassifier uses 20% of the training data for validation\n",
        "#C the training of the GradientBoostingClassifier will stop after 10 iterations without improvements on the validation\n",
        "#D extracting the number of estimators used during training for each fold's estimator\n",
        "#E printing the list of the number of estimators for each fold's estimator"
      ]
    },
    {
      "cell_type": "code",
      "execution_count": null,
      "metadata": {
        "colab": {
          "base_uri": "https://localhost:8080/"
        },
        "id": "9FtTufFP1gW3",
        "outputId": "bdc5dca2-f2f9-43a5-81ab-ef693351544d"
      },
      "outputs": [
        {
          "output_type": "stream",
          "name": "stdout",
          "text": [
            "0.826 (0.004) fit: 0.84 secs pred: 0.05 secs\n"
          ]
        }
      ],
      "source": [
        "# Listing 5.12 XGBoost classifier\n",
        "\n",
        "from xgboost import XGBClassifier\n",
        "\n",
        "accuracy = make_scorer(accuracy_score)\n",
        "cv = KFold(5, shuffle=True, random_state=0)\n",
        "xgb = XGBClassifier(booster='gbtree', #A\n",
        "                    objective='reg:logistic', #B\n",
        "                    n_estimators=300,\n",
        "                    max_depth=4,\n",
        "                    min_child_weight=3) #C\n",
        "\n",
        "model_pipeline = Pipeline(\n",
        "    [('processing', column_transform),\n",
        "     ('xgboost', xgb)])\n",
        "\n",
        "cv_scores = cross_validate(estimator=model_pipeline,\n",
        "                           X=data,\n",
        "                           y=target_median,\n",
        "                           scoring=accuracy,\n",
        "                           cv=cv,\n",
        "                           return_train_score=True,\n",
        "                           return_estimator=True)\n",
        "\n",
        "mean_cv = np.mean(cv_scores['test_score'])\n",
        "std_cv = np.std(cv_scores['test_score'])\n",
        "fit_time = np.mean(cv_scores['fit_time'])\n",
        "score_time = np.mean(cv_scores['score_time'])\n",
        "print(f\"{mean_cv:0.3f} ({std_cv:0.3f})\",\n",
        "      f\"fit: {fit_time:0.2f} secs pred: {score_time:0.2f} secs\") #D\n",
        "\n",
        "#A creating an XGBClassifier model with specified hyperparameters, including the booster type\n",
        "#B The learning objective, equivalent to Scikit-learn’s loss\n",
        "#C min_child_weight is equivalent as Scikit-learn’s min_samples_leaf\n",
        "#D printing the mean and standard deviation of cross-validated test scores"
      ]
    },
    {
      "cell_type": "code",
      "execution_count": null,
      "metadata": {
        "colab": {
          "base_uri": "https://localhost:8080/"
        },
        "id": "jeXchrxf1gUQ",
        "outputId": "884508af-efb4-4797-ac6b-c2580467c613"
      },
      "outputs": [
        {
          "output_type": "stream",
          "name": "stdout",
          "text": [
            "Accuracy: 0.82514\n"
          ]
        }
      ],
      "source": [
        "# Listing 5.13 Explaining how XGBoost works\n",
        "\n",
        "class NewtonianGradientBoosting(GradientBoosting): #A\n",
        "    \"\"\"the Newton-Raphson method is used to update the predictions\"\"\"\n",
        "\n",
        "    reg_lambda = 0.25 #B\n",
        "\n",
        "    def hessian(self, y_true, y_pred):\n",
        "        hessian = np.ones_like(y_true) #C\n",
        "        return hessian\n",
        "\n",
        "    def fit(self, X, y):\n",
        "        self.init = self.logit(np.mean(y))\n",
        "        y_pred = self.init * np.ones((X.shape[0],))\n",
        "\n",
        "        for k in range(self.n_estimators):\n",
        "            gradient = self.gradient(self.logit(y), y_pred)\n",
        "            hessian = self.hessian(self.logit(y), y_pred)\n",
        "            tree = DecisionTreeRegressor(**self.params)\n",
        "            tree.fit(X, -gradient / (hessian + self.reg_lambda)) #D\n",
        "            self.trees.append(tree)\n",
        "            y_pred += self.learning_rate * tree.predict(X)\n",
        "\n",
        "cls = NewtonianGradientBoosting(n_estimators=300,\n",
        "                                learning_rate=0.1,\n",
        "                                max_depth=4,\n",
        "                                min_samples_leaf=3,\n",
        "                                random_state=0) #E\n",
        "\n",
        "cls.fit(X, y) #F\n",
        "preds = cls.predict(Xt)\n",
        "score = accuracy_score(y_true=yt, y_pred=preds)\n",
        "print(f\"Accuracy: {score:0.5f}\") #G\n",
        "\n",
        "#A defining a new class NewtonianGradientBoosting as a subclass of GradientBoosting\n",
        "#B setting a regularization parameter reg_lambda\n",
        "#C initializing a constant hessian matrix with ones\n",
        "#D fitting the decision tree by dividing the negative gradient by the sum of the hessian and the regularization parameter\n",
        "#E creating an instance of the NewtonianGradientBoosting class with specified hyperparameters\n",
        "#F fitting the NewtonianGradientBoosting model to the training data\n",
        "#G predicting target values using the fitted model and calculating the accuracy score for evaluation"
      ]
    },
    {
      "cell_type": "code",
      "execution_count": null,
      "metadata": {
        "id": "9Tqxfya61gRZ"
      },
      "outputs": [],
      "source": [
        "# Listing 5.14 Explaining the histogram split\n",
        "\n",
        "import numpy as np\n",
        "\n",
        "def gini_impurity(y):\n",
        "    _, counts = np.unique(y, return_counts=True)\n",
        "    probs = counts / len(y)\n",
        "    return 1 - np.sum(probs**2) #A\n",
        "\n",
        "def histogram_split(x, y, use_histogram, n_bins=256):\n",
        "    if use_histogram:\n",
        "        hist, thresholds = np.histogram(x, bins=n_bins, density=False) #B\n",
        "    else:\n",
        "        thresholds = np.unique(x) #C\n",
        "    best_score = -1\n",
        "    best_threshold = None #D\n",
        "    for threshold in thresholds: #E\n",
        "        left_mask = x <= threshold\n",
        "        right_mask = x > threshold\n",
        "        left_y = y[left_mask]\n",
        "        right_y = y[right_mask] #F\n",
        "        score = (gini_impurity(left_y) * len(left_y)\n",
        "                 + gini_impurity(right_y) * len(right_y)) #G\n",
        "        if score > best_score: #H\n",
        "            best_threshold = threshold\n",
        "            best_score = score\n",
        "    return best_threshold, best_score #I\n",
        "\n",
        "#A function calculating and returning the Gini impurity of a set of labels y\n",
        "#B if use_histogram is true, computes the histogram for the selected feature\n",
        "#C if use_histogram is false, just enumerates all the unique value in the feature\n",
        "#D initializing the best score and threshold\n",
        "#E iterating over all possible thresholds\n",
        "#F splitting y based into left and right subsets based on the selected threshold\n",
        "#G calculating the Gini impurity score for the left and right subsets\n",
        "#H updating the best score and threshold if the current split has a higher Gini impurity score than the previous best split\n",
        "#I returning the best threshold and its corresponding Gini impurity score"
      ]
    },
    {
      "cell_type": "code",
      "execution_count": null,
      "metadata": {
        "colab": {
          "base_uri": "https://localhost:8080/"
        },
        "id": "H6P-Gci_1gOy",
        "outputId": "58c253bf-be2b-486c-e0e9-9474ba788808"
      },
      "outputs": [
        {
          "output_type": "stream",
          "name": "stdout",
          "text": [
            "CPU times: user 54.8 s, sys: 95 ms, total: 54.9 s\n",
            "Wall time: 55.2 s\n"
          ]
        },
        {
          "output_type": "execute_result",
          "data": {
            "text/plain": [
              "(40.91306, 24447.475447387256)"
            ]
          },
          "metadata": {},
          "execution_count": 15
        }
      ],
      "source": [
        "%%time\n",
        "histogram_split(x=data.latitude, y=target_median, use_histogram=False)"
      ]
    },
    {
      "cell_type": "code",
      "execution_count": null,
      "metadata": {
        "colab": {
          "base_uri": "https://localhost:8080/"
        },
        "id": "nVi_2JR21gL_",
        "outputId": "9d8c9705-c59d-4d60-b63a-721a6b5379ec"
      },
      "outputs": [
        {
          "output_type": "stream",
          "name": "stdout",
          "text": [
            "CPU times: user 610 ms, sys: 2.99 ms, total: 613 ms\n",
            "Wall time: 616 ms\n"
          ]
        },
        {
          "output_type": "execute_result",
          "data": {
            "text/plain": [
              "(40.91306, 24447.475447387256)"
            ]
          },
          "metadata": {},
          "execution_count": 16
        }
      ],
      "source": [
        "%%time\n",
        "histogram_split(x=data.latitude, y=target_median, use_histogram=True, n_bins=256)"
      ]
    },
    {
      "cell_type": "code",
      "execution_count": null,
      "metadata": {
        "colab": {
          "base_uri": "https://localhost:8080/"
        },
        "id": "4XSkCdRV1gJA",
        "outputId": "575409f3-30a4-4cf9-9735-233ab8ab670e"
      },
      "outputs": [
        {
          "output_type": "stream",
          "name": "stdout",
          "text": [
            "Accuracy: 0.82657\n"
          ]
        }
      ],
      "source": [
        "# Listing 5.15 Applying early stopping to XGBoost\n",
        "\n",
        "train, test = train_test_split(range(len(data)), test_size=0.2, random_state=0) #A\n",
        "train, validation = train_test_split(train, test_size=0.2, random_state=0) #B\n",
        "\n",
        "xgb = XGBClassifier(booster='gbtree',\n",
        "                    objective='reg:logistic',\n",
        "                    n_estimators=1000,\n",
        "                    max_depth=4,\n",
        "                    min_child_weight=3,\n",
        "                    early_stopping_rounds=100,  #C\n",
        "                    eval_metric='error')  #D\n",
        "\n",
        "X = column_transform.fit_transform(data.iloc[train])\n",
        "y = target_median[train]\n",
        "\n",
        "Xv = column_transform.transform(data.iloc[validation])\n",
        "yv = target_median[validation]\n",
        "\n",
        "xgb.fit(X, y, eval_set=[(Xv, yv)], verbose=False) #E\n",
        "\n",
        "Xt = column_transform.transform(data.iloc[test])\n",
        "yt = target_median[test]\n",
        "\n",
        "preds = xgb.predict(Xt)\n",
        "score = accuracy_score(y_true=yt, y_pred=preds)\n",
        "print(f\"Accuracy: {score:0.5f}\") #F\n",
        "\n",
        "#A splitting the indices of the data into training and test sets using a fixed random seed\n",
        "#B further splitting the training set into training and validation sets using the same random seed\n",
        "#C initializing an XGBoost classifier with an early stopping patience for 100 rounds\n",
        "#D using the ‘error’ parameter, equivalent to accuracy, as an evaluation metric\n",
        "#E fitting the XGBoost classifier to the training data X and labels y and performance on the validation data Xv and yv\n",
        "#F print the accuracy score after comparing the predicted labels with the true labels"
      ]
    },
    {
      "cell_type": "code",
      "execution_count": null,
      "metadata": {
        "colab": {
          "base_uri": "https://localhost:8080/"
        },
        "id": "WgmQs7lh1gF_",
        "outputId": "372aac5b-7125-4ee6-ffab-81919bfd1f4f"
      },
      "outputs": [
        {
          "output_type": "stream",
          "name": "stdout",
          "text": [
            "CV Accuracy 0.826 (0.004) fit: 1.16 secs pred: 0.16 secs\n"
          ]
        }
      ],
      "source": [
        "# Listing 5.16 LightGBM classifier\n",
        "\n",
        "from lightgbm import LGBMClassifier\n",
        "\n",
        "accuracy = make_scorer(accuracy_score)\n",
        "cv = KFold(5, shuffle=True, random_state=0)\n",
        "lgbm = LGBMClassifier(boosting_type='gbdt', #A\n",
        "                      n_estimators=300,\n",
        "                      max_depth=-1,\n",
        "                      min_child_samples=3,\n",
        "                      force_col_wise=True, #B\n",
        "                      verbosity=0)\n",
        "\n",
        "model_pipeline = Pipeline(\n",
        "    [('processing', column_transform),\n",
        "     ('lightgbm', lgbm)]) #C\n",
        "\n",
        "cv_scores = cross_validate(estimator=model_pipeline,\n",
        "                           X=data,\n",
        "                           y=target_median,\n",
        "                           scoring=accuracy,\n",
        "                           cv=cv,\n",
        "                           return_train_score=True,\n",
        "                           return_estimator=True) #D\n",
        "\n",
        "mean_cv = np.mean(cv_scores['test_score'])\n",
        "std_cv = np.std(cv_scores['test_score'])\n",
        "fit_time = np.mean(cv_scores['fit_time'])\n",
        "score_time = np.mean(cv_scores['score_time'])\n",
        "print(f\"CV Accuracy {mean_cv:0.3f} ({std_cv:0.3f})\",\n",
        "      f\"fit: {fit_time:0.2f} secs pred: {score_time:0.2f} secs\") #E\n",
        "\n",
        "#A Initializing an LGBMClassifier with number of estimators, maximum tree depth, and minimum number of child samples\n",
        "#B Forcing column-wise histogram building\n",
        "#B creating a model pipeline that includes a column transformation step and an LGBMClassifier step\n",
        "#C performing a five-fold cross-validation using the model pipeline using accuracy scoring\n",
        "#D printing the mean test score and standard deviation of the test scores obtained during cross-validation"
      ]
    },
    {
      "cell_type": "code",
      "execution_count": null,
      "metadata": {
        "colab": {
          "base_uri": "https://localhost:8080/"
        },
        "id": "2br04Fwh2ilV",
        "outputId": "8003758c-8d6f-4370-ee4e-7f093c93d530"
      },
      "outputs": [
        {
          "output_type": "stream",
          "name": "stdout",
          "text": [
            "Test accuracy: 0.82585\n"
          ]
        }
      ],
      "source": [
        "# Listing 5.17 Applying early stopping to LightGBM\n",
        "\n",
        "from lightgbm import LGBMClassifier, log_evaluation\n",
        "\n",
        "train, test = train_test_split(range(len(data)), test_size=0.2, random_state=0) #A\n",
        "train, validation = train_test_split(train, test_size=0.2, random_state=0) #B\n",
        "\n",
        "lgbm = LGBMClassifier(boosting_type='gbdt',\n",
        "                      early_stopping_round=150,\n",
        "                      n_estimators=1000,\n",
        "                      max_depth=-1,\n",
        "                      min_child_samples=3,\n",
        "                      force_col_wise=True,\n",
        "                      verbosity=0) #C\n",
        "\n",
        "X = column_transform.fit_transform(data.iloc[train])\n",
        "y = target_median[train]\n",
        "\n",
        "Xv = column_transform.transform(data.iloc[validation])\n",
        "yv = target_median[validation]\n",
        "\n",
        "lgbm.fit(X, y, eval_set=[(Xv, yv)], #D\n",
        "     \teval_metric='accuracy', #E\n",
        "     \tcallbacks=[log_evaluation(period=0)]) #F\n",
        "\n",
        "Xt = column_transform.transform(data.iloc[test])\n",
        "yt = target_median[test]\n",
        "\n",
        "preds = lgbm.predict(Xt)\n",
        "score = accuracy_score(y_true=yt, y_pred=preds)\n",
        "print(f\"Test accuracy: {score:0.5f}\") #G\n",
        "\n",
        "#A splitting the indices of the data into training and test sets using a fixed random seed\n",
        "#B further splitting the training set into training and validation sets using the same random seed\n",
        "#C initializing a LightGBM classifier with number of estimators, max depth and minimum number of child samples\n",
        "#D fitting the LightGBM classifier to the training data X and labels y and performance on the validation data Xv and yv\n",
        "#E setting accuracy as an evaluation metric\n",
        "#F setting a callback to suppress the evaluation (period=0)\n",
        "#G print the accuracy score after comparing the predicted labels with the true labels"
      ]
    },
    {
      "cell_type": "code",
      "execution_count": null,
      "metadata": {
        "colab": {
          "base_uri": "https://localhost:8080/"
        },
        "id": "jiu6n0BZ2iiD",
        "outputId": "c3a50fb5-4668-40ec-d1b9-db794c6de3ae"
      },
      "outputs": [
        {
          "output_type": "stream",
          "name": "stdout",
          "text": [
            "0.827 (0.005) fit: 1.71 secs pred: 0.13 secs\n"
          ]
        }
      ],
      "source": [
        "# Listing 5.18 The new Scikit-learn’s histogram gradient boosting\n",
        "\n",
        "from sklearn.ensemble import HistGradientBoostingClassifier\n",
        "from sklearn.metrics import accuracy_score\n",
        "\n",
        "accuracy = make_scorer(accuracy_score)\n",
        "cv = KFold(5, shuffle=True, random_state=0)\n",
        "\n",
        "model = HistGradientBoostingClassifier(learning_rate=0.1,\n",
        "                                       max_iter=300,\n",
        "                                       max_depth=4,\n",
        "                                       min_samples_leaf=3,\n",
        "                                       random_state=0) #A\n",
        "\n",
        "model_pipeline = Pipeline(\n",
        "    [('processing', column_transform),\n",
        "     ('modeling', model)]) #B\n",
        "\n",
        "cv_scores = cross_validate(estimator=model_pipeline,\n",
        "                           X=data,\n",
        "                           y=target_median,\n",
        "                           scoring=accuracy,\n",
        "                           cv=cv,\n",
        "                           return_train_score=True,\n",
        "                           return_estimator=True) #C\n",
        "\n",
        "mean_cv = np.mean(cv_scores['test_score'])\n",
        "std_cv = np.std(cv_scores['test_score'])\n",
        "fit_time = np.mean(cv_scores['fit_time'])\n",
        "score_time = np.mean(cv_scores['score_time'])\n",
        "print(f\"{mean_cv:0.3f} ({std_cv:0.3f})\",\n",
        "      f\"fit: {fit_time:0.2f} secs pred: {score_time:0.2f} secs\") #D\n",
        "\n",
        "#A initializing a HistGradientBoostingClassifier with specific hyperparameters for the boosting algorithm\n",
        "#B creating a model pipeline combining data preprocessing (column_transform) and the model\n",
        "#C executing five-fold cross-validation on the model pipeline returning scores and trained estimators\n",
        "#D printing the mean and standard deviation of the accuracy scores from cross-validation"
      ]
    }
  ],
  "metadata": {
    "colab": {
      "provenance": []
    },
    "kernelspec": {
      "display_name": "Python 3 (ipykernel)",
      "language": "python",
      "name": "python3"
    },
    "language_info": {
      "codemirror_mode": {
        "name": "ipython",
        "version": 3
      },
      "file_extension": ".py",
      "mimetype": "text/x-python",
      "name": "python",
      "nbconvert_exporter": "python",
      "pygments_lexer": "ipython3",
      "version": "3.8.9"
    }
  },
  "nbformat": 4,
  "nbformat_minor": 0
}